{
  "nbformat": 4,
  "nbformat_minor": 0,
  "metadata": {
    "colab": {
      "provenance": [],
      "gpuType": "T4",
      "mount_file_id": "184xla-Qt5Mcj9hoM-VTYGXm7nSeThe2i",
      "authorship_tag": "ABX9TyO77C93CyUMLk9ROZsIYeun",
      "include_colab_link": true
    },
    "kernelspec": {
      "name": "python3",
      "display_name": "Python 3"
    },
    "language_info": {
      "name": "python"
    },
    "accelerator": "GPU"
  },
  "cells": [
    {
      "cell_type": "markdown",
      "metadata": {
        "id": "view-in-github",
        "colab_type": "text"
      },
      "source": [
        "<a href=\"https://colab.research.google.com/github/commitit/NLP/blob/main/NLP_BERT_FINAL.ipynb\" target=\"_parent\"><img src=\"https://colab.research.google.com/assets/colab-badge.svg\" alt=\"Open In Colab\"/></a>"
      ]
    },
    {
      "cell_type": "code",
      "execution_count": 1,
      "metadata": {
        "id": "W9sbNLCpaNrD",
        "colab": {
          "base_uri": "https://localhost:8080/"
        },
        "outputId": "dcc57f36-4ebd-4687-e1ae-145427ed25bb"
      },
      "outputs": [
        {
          "output_type": "stream",
          "name": "stdout",
          "text": [
            "Mounted at /content/gdrive\n"
          ]
        }
      ],
      "source": [
        "import pandas as pd\n",
        "import numpy as np\n",
        "\n",
        "from google.colab import drive\n",
        "drive.mount('/content/gdrive', force_remount=True)\n",
        "\n",
        "path_to_csv = '/content/gdrive/MyDrive/Data/review.csv'"
      ]
    },
    {
      "cell_type": "code",
      "source": [
        " df = pd.read_csv(path_to_csv)\n",
        " df.head()"
      ],
      "metadata": {
        "colab": {
          "base_uri": "https://localhost:8080/",
          "height": 204
        },
        "id": "mggXnH_CGwpB",
        "outputId": "580f6a01-e489-4cc5-f003-d855ec9a56a4"
      },
      "execution_count": 2,
      "outputs": [
        {
          "output_type": "execute_result",
          "data": {
            "text/plain": [
              "                                              review sentiment\n",
              "0  One of the other reviewers has mentioned that ...  positive\n",
              "1  A wonderful little production. <br /><br />The...  positive\n",
              "2  I thought this was a wonderful way to spend ti...  positive\n",
              "3  Basically there's a family where a little boy ...  negative\n",
              "4  Petter Mattei's \"Love in the Time of Money\" is...  positive"
            ],
            "text/html": [
              "\n",
              "  <div id=\"df-69aaf483-6393-43be-9354-62f2caa00236\" class=\"colab-df-container\">\n",
              "    <div>\n",
              "<style scoped>\n",
              "    .dataframe tbody tr th:only-of-type {\n",
              "        vertical-align: middle;\n",
              "    }\n",
              "\n",
              "    .dataframe tbody tr th {\n",
              "        vertical-align: top;\n",
              "    }\n",
              "\n",
              "    .dataframe thead th {\n",
              "        text-align: right;\n",
              "    }\n",
              "</style>\n",
              "<table border=\"1\" class=\"dataframe\">\n",
              "  <thead>\n",
              "    <tr style=\"text-align: right;\">\n",
              "      <th></th>\n",
              "      <th>review</th>\n",
              "      <th>sentiment</th>\n",
              "    </tr>\n",
              "  </thead>\n",
              "  <tbody>\n",
              "    <tr>\n",
              "      <th>0</th>\n",
              "      <td>One of the other reviewers has mentioned that ...</td>\n",
              "      <td>positive</td>\n",
              "    </tr>\n",
              "    <tr>\n",
              "      <th>1</th>\n",
              "      <td>A wonderful little production. &lt;br /&gt;&lt;br /&gt;The...</td>\n",
              "      <td>positive</td>\n",
              "    </tr>\n",
              "    <tr>\n",
              "      <th>2</th>\n",
              "      <td>I thought this was a wonderful way to spend ti...</td>\n",
              "      <td>positive</td>\n",
              "    </tr>\n",
              "    <tr>\n",
              "      <th>3</th>\n",
              "      <td>Basically there's a family where a little boy ...</td>\n",
              "      <td>negative</td>\n",
              "    </tr>\n",
              "    <tr>\n",
              "      <th>4</th>\n",
              "      <td>Petter Mattei's \"Love in the Time of Money\" is...</td>\n",
              "      <td>positive</td>\n",
              "    </tr>\n",
              "  </tbody>\n",
              "</table>\n",
              "</div>\n",
              "    <div class=\"colab-df-buttons\">\n",
              "\n",
              "  <div class=\"colab-df-container\">\n",
              "    <button class=\"colab-df-convert\" onclick=\"convertToInteractive('df-69aaf483-6393-43be-9354-62f2caa00236')\"\n",
              "            title=\"Convert this dataframe to an interactive table.\"\n",
              "            style=\"display:none;\">\n",
              "\n",
              "  <svg xmlns=\"http://www.w3.org/2000/svg\" height=\"24px\" viewBox=\"0 -960 960 960\">\n",
              "    <path d=\"M120-120v-720h720v720H120Zm60-500h600v-160H180v160Zm220 220h160v-160H400v160Zm0 220h160v-160H400v160ZM180-400h160v-160H180v160Zm440 0h160v-160H620v160ZM180-180h160v-160H180v160Zm440 0h160v-160H620v160Z\"/>\n",
              "  </svg>\n",
              "    </button>\n",
              "\n",
              "  <style>\n",
              "    .colab-df-container {\n",
              "      display:flex;\n",
              "      gap: 12px;\n",
              "    }\n",
              "\n",
              "    .colab-df-convert {\n",
              "      background-color: #E8F0FE;\n",
              "      border: none;\n",
              "      border-radius: 50%;\n",
              "      cursor: pointer;\n",
              "      display: none;\n",
              "      fill: #1967D2;\n",
              "      height: 32px;\n",
              "      padding: 0 0 0 0;\n",
              "      width: 32px;\n",
              "    }\n",
              "\n",
              "    .colab-df-convert:hover {\n",
              "      background-color: #E2EBFA;\n",
              "      box-shadow: 0px 1px 2px rgba(60, 64, 67, 0.3), 0px 1px 3px 1px rgba(60, 64, 67, 0.15);\n",
              "      fill: #174EA6;\n",
              "    }\n",
              "\n",
              "    .colab-df-buttons div {\n",
              "      margin-bottom: 4px;\n",
              "    }\n",
              "\n",
              "    [theme=dark] .colab-df-convert {\n",
              "      background-color: #3B4455;\n",
              "      fill: #D2E3FC;\n",
              "    }\n",
              "\n",
              "    [theme=dark] .colab-df-convert:hover {\n",
              "      background-color: #434B5C;\n",
              "      box-shadow: 0px 1px 3px 1px rgba(0, 0, 0, 0.15);\n",
              "      filter: drop-shadow(0px 1px 2px rgba(0, 0, 0, 0.3));\n",
              "      fill: #FFFFFF;\n",
              "    }\n",
              "  </style>\n",
              "\n",
              "    <script>\n",
              "      const buttonEl =\n",
              "        document.querySelector('#df-69aaf483-6393-43be-9354-62f2caa00236 button.colab-df-convert');\n",
              "      buttonEl.style.display =\n",
              "        google.colab.kernel.accessAllowed ? 'block' : 'none';\n",
              "\n",
              "      async function convertToInteractive(key) {\n",
              "        const element = document.querySelector('#df-69aaf483-6393-43be-9354-62f2caa00236');\n",
              "        const dataTable =\n",
              "          await google.colab.kernel.invokeFunction('convertToInteractive',\n",
              "                                                    [key], {});\n",
              "        if (!dataTable) return;\n",
              "\n",
              "        const docLinkHtml = 'Like what you see? Visit the ' +\n",
              "          '<a target=\"_blank\" href=https://colab.research.google.com/notebooks/data_table.ipynb>data table notebook</a>'\n",
              "          + ' to learn more about interactive tables.';\n",
              "        element.innerHTML = '';\n",
              "        dataTable['output_type'] = 'display_data';\n",
              "        await google.colab.output.renderOutput(dataTable, element);\n",
              "        const docLink = document.createElement('div');\n",
              "        docLink.innerHTML = docLinkHtml;\n",
              "        element.appendChild(docLink);\n",
              "      }\n",
              "    </script>\n",
              "  </div>\n",
              "\n",
              "\n",
              "<div id=\"df-b89bb7d4-2a45-42a5-88d1-d30aa9291d0a\">\n",
              "  <button class=\"colab-df-quickchart\" onclick=\"quickchart('df-b89bb7d4-2a45-42a5-88d1-d30aa9291d0a')\"\n",
              "            title=\"Suggest charts\"\n",
              "            style=\"display:none;\">\n",
              "\n",
              "<svg xmlns=\"http://www.w3.org/2000/svg\" height=\"24px\"viewBox=\"0 0 24 24\"\n",
              "     width=\"24px\">\n",
              "    <g>\n",
              "        <path d=\"M19 3H5c-1.1 0-2 .9-2 2v14c0 1.1.9 2 2 2h14c1.1 0 2-.9 2-2V5c0-1.1-.9-2-2-2zM9 17H7v-7h2v7zm4 0h-2V7h2v10zm4 0h-2v-4h2v4z\"/>\n",
              "    </g>\n",
              "</svg>\n",
              "  </button>\n",
              "\n",
              "<style>\n",
              "  .colab-df-quickchart {\n",
              "      --bg-color: #E8F0FE;\n",
              "      --fill-color: #1967D2;\n",
              "      --hover-bg-color: #E2EBFA;\n",
              "      --hover-fill-color: #174EA6;\n",
              "      --disabled-fill-color: #AAA;\n",
              "      --disabled-bg-color: #DDD;\n",
              "  }\n",
              "\n",
              "  [theme=dark] .colab-df-quickchart {\n",
              "      --bg-color: #3B4455;\n",
              "      --fill-color: #D2E3FC;\n",
              "      --hover-bg-color: #434B5C;\n",
              "      --hover-fill-color: #FFFFFF;\n",
              "      --disabled-bg-color: #3B4455;\n",
              "      --disabled-fill-color: #666;\n",
              "  }\n",
              "\n",
              "  .colab-df-quickchart {\n",
              "    background-color: var(--bg-color);\n",
              "    border: none;\n",
              "    border-radius: 50%;\n",
              "    cursor: pointer;\n",
              "    display: none;\n",
              "    fill: var(--fill-color);\n",
              "    height: 32px;\n",
              "    padding: 0;\n",
              "    width: 32px;\n",
              "  }\n",
              "\n",
              "  .colab-df-quickchart:hover {\n",
              "    background-color: var(--hover-bg-color);\n",
              "    box-shadow: 0 1px 2px rgba(60, 64, 67, 0.3), 0 1px 3px 1px rgba(60, 64, 67, 0.15);\n",
              "    fill: var(--button-hover-fill-color);\n",
              "  }\n",
              "\n",
              "  .colab-df-quickchart-complete:disabled,\n",
              "  .colab-df-quickchart-complete:disabled:hover {\n",
              "    background-color: var(--disabled-bg-color);\n",
              "    fill: var(--disabled-fill-color);\n",
              "    box-shadow: none;\n",
              "  }\n",
              "\n",
              "  .colab-df-spinner {\n",
              "    border: 2px solid var(--fill-color);\n",
              "    border-color: transparent;\n",
              "    border-bottom-color: var(--fill-color);\n",
              "    animation:\n",
              "      spin 1s steps(1) infinite;\n",
              "  }\n",
              "\n",
              "  @keyframes spin {\n",
              "    0% {\n",
              "      border-color: transparent;\n",
              "      border-bottom-color: var(--fill-color);\n",
              "      border-left-color: var(--fill-color);\n",
              "    }\n",
              "    20% {\n",
              "      border-color: transparent;\n",
              "      border-left-color: var(--fill-color);\n",
              "      border-top-color: var(--fill-color);\n",
              "    }\n",
              "    30% {\n",
              "      border-color: transparent;\n",
              "      border-left-color: var(--fill-color);\n",
              "      border-top-color: var(--fill-color);\n",
              "      border-right-color: var(--fill-color);\n",
              "    }\n",
              "    40% {\n",
              "      border-color: transparent;\n",
              "      border-right-color: var(--fill-color);\n",
              "      border-top-color: var(--fill-color);\n",
              "    }\n",
              "    60% {\n",
              "      border-color: transparent;\n",
              "      border-right-color: var(--fill-color);\n",
              "    }\n",
              "    80% {\n",
              "      border-color: transparent;\n",
              "      border-right-color: var(--fill-color);\n",
              "      border-bottom-color: var(--fill-color);\n",
              "    }\n",
              "    90% {\n",
              "      border-color: transparent;\n",
              "      border-bottom-color: var(--fill-color);\n",
              "    }\n",
              "  }\n",
              "</style>\n",
              "\n",
              "  <script>\n",
              "    async function quickchart(key) {\n",
              "      const quickchartButtonEl =\n",
              "        document.querySelector('#' + key + ' button');\n",
              "      quickchartButtonEl.disabled = true;  // To prevent multiple clicks.\n",
              "      quickchartButtonEl.classList.add('colab-df-spinner');\n",
              "      try {\n",
              "        const charts = await google.colab.kernel.invokeFunction(\n",
              "            'suggestCharts', [key], {});\n",
              "      } catch (error) {\n",
              "        console.error('Error during call to suggestCharts:', error);\n",
              "      }\n",
              "      quickchartButtonEl.classList.remove('colab-df-spinner');\n",
              "      quickchartButtonEl.classList.add('colab-df-quickchart-complete');\n",
              "    }\n",
              "    (() => {\n",
              "      let quickchartButtonEl =\n",
              "        document.querySelector('#df-b89bb7d4-2a45-42a5-88d1-d30aa9291d0a button');\n",
              "      quickchartButtonEl.style.display =\n",
              "        google.colab.kernel.accessAllowed ? 'block' : 'none';\n",
              "    })();\n",
              "  </script>\n",
              "</div>\n",
              "    </div>\n",
              "  </div>\n"
            ],
            "application/vnd.google.colaboratory.intrinsic+json": {
              "type": "dataframe",
              "variable_name": "df",
              "summary": "{\n  \"name\": \"df\",\n  \"rows\": 50000,\n  \"fields\": [\n    {\n      \"column\": \"review\",\n      \"properties\": {\n        \"dtype\": \"string\",\n        \"num_unique_values\": 49582,\n        \"samples\": [\n          \"\\\"Soul Plane\\\" is a horrible attempt at comedy that only should appeal people with thick skulls, bloodshot eyes and furry pawns. <br /><br />The plot is not only incoherent but also non-existent, acting is mostly sub sub-par with a gang of highly moronic and dreadful characters thrown in for bad measure, jokes are often spotted miles ahead and almost never even a bit amusing. This movie lacks any structure and is full of racial stereotypes that must have seemed old even in the fifties, the only thing it really has going for it is some pretty ladies, but really, if you want that you can rent something from the \\\"Adult\\\" section. OK?<br /><br />I can hardly see anything here to recommend since you'll probably have a lot a better and productive time chasing rats with a sledgehammer or inventing waterproof teabags or whatever.<br /><br />2/10\",\n          \"Guest from the Future tells a fascinating story of time travel, friendship, battle of good and evil -- all with a small budget, child actors, and few special effects. Something for Spielberg and Lucas to learn from. ;) A sixth-grader Kolya \\\"Nick\\\" Gerasimov finds a time machine in the basement of a decrepit building and travels 100 years into the future. He discovers a near-perfect, utopian society where robots play guitars and write poetry, everyone is kind to each other and people enjoy everything technology has to offer. Alice is the daughter of a prominent scientist who invented a device called Mielophone that allows to read minds of humans and animals. The device can be put to both good and bad use, depending on whose hands it falls into. When two evil space pirates from Saturn who want to rule the universe attempt to steal Mielophone, it falls into the hands of 20th century school boy Nick. With the pirates hot on his tracks, he travels back to his time, followed by the pirates, and Alice. Chaos, confusion and funny situations follow as the luckless pirates try to blend in with the earthlings. Alice enrolls in the same school Nick goes to and demonstrates superhuman abilities in PE class. The catch is, Alice doesn't know what Nick looks like, while the pirates do. Also, the pirates are able to change their appearance and turn literally into anyone. (Hmm, I wonder if this is where James Cameron got the idea for Terminator...) Who gets to Nick -- and Mielophone -- first? Excellent plot, non-stop adventures, and great soundtrack. I wish Hollywood made kid movies like this one...\",\n          \"\\\"National Treasure\\\" (2004) is a thoroughly misguided hodge-podge of plot entanglements that borrow from nearly every cloak and dagger government conspiracy clich\\u00e9 that has ever been written. The film stars Nicholas Cage as Benjamin Franklin Gates (how precious is that, I ask you?); a seemingly normal fellow who, for no other reason than being of a lineage of like-minded misguided fortune hunters, decides to steal a 'national treasure' that has been hidden by the United States founding fathers. After a bit of subtext and background that plays laughably (unintentionally) like Indiana Jones meets The Patriot, the film degenerates into one misguided whimsy after another \\u0096 attempting to create a 'Stanley Goodspeed' regurgitation of Nicholas Cage and launch the whole convoluted mess forward with a series of high octane, but disconnected misadventures.<br /><br />The relevancy and logic to having George Washington and his motley crew of patriots burying a king's ransom someplace on native soil, and then, going through the meticulous plan of leaving clues scattered throughout U.S. currency art work, is something that director Jon Turteltaub never quite gets around to explaining. Couldn't Washington found better usage for such wealth during the start up of the country? Hence, we are left with a mystery built on top of an enigma that is already on shaky ground by the time Ben appoints himself the new custodian of this untold wealth. Ben's intentions are noble \\u0096 if confusing. He's set on protecting the treasure. For who and when?\\u0085your guess is as good as mine.<br /><br />But there are a few problems with Ben's crusade. First up, his friend, Ian Holmes (Sean Bean) decides that he can't wait for Ben to make up his mind about stealing the Declaration of Independence from the National Archives (oh, yeah \\u0096 brilliant idea!). Presumably, the back of that famous document holds the secret answer to the ultimate fortune. So Ian tries to kill Ben. The assassination attempt is, of course, unsuccessful, if overly melodramatic. It also affords Ben the opportunity to pick up, and pick on, the very sultry curator of the archives, Abigail Chase (Diane Kruger). She thinks Ben is clearly a nut \\u0096 at least at the beginning. But true to action/romance form, Abby's resolve melts quicker than you can say, \\\"is that the Hope Diamond?\\\" The film moves into full X-File-ish mode, as the FBI, mistakenly believing that Ben is behind the theft, retaliate in various benign ways that lead to a multi-layering of action sequences reminiscent of Mission Impossible meets The Fugitive. Honestly, don't those guys ever get 'intelligence' information that is correct? In the final analysis, \\\"National Treasure\\\" isn't great film making, so much as it's a patchwork rehash of tired old bits from other movies, woven together from scraps, the likes of which would make IL' Betsy Ross blush.<br /><br />The Buena Vista DVD delivers a far more generous treatment than this film is deserving of. The anamorphic widescreen picture exhibits a very smooth and finely detailed image with very rich colors, natural flesh tones, solid blacks and clean whites. The stylized image is also free of blemishes and digital enhancements. The audio is 5.1 and delivers a nice sonic boom to your side and rear speakers with intensity and realism. Extras include a host of promotional junket material that is rather deep and over the top in its explanation of how and why this film was made. If only, as an audience, we had had more clarification as to why Ben and co. were chasing after an illusive treasure, this might have been one good flick. Extras conclude with the theatrical trailer, audio commentary and deleted scenes. Not for the faint-hearted \\u0096 just the thick-headed.\"\n        ],\n        \"semantic_type\": \"\",\n        \"description\": \"\"\n      }\n    },\n    {\n      \"column\": \"sentiment\",\n      \"properties\": {\n        \"dtype\": \"category\",\n        \"num_unique_values\": 2,\n        \"samples\": [\n          \"negative\",\n          \"positive\"\n        ],\n        \"semantic_type\": \"\",\n        \"description\": \"\"\n      }\n    }\n  ]\n}"
            }
          },
          "metadata": {},
          "execution_count": 2
        }
      ]
    },
    {
      "cell_type": "code",
      "source": [
        "df.shape"
      ],
      "metadata": {
        "colab": {
          "base_uri": "https://localhost:8080/"
        },
        "id": "G7Q7Z6U5AVDE",
        "outputId": "89770b4a-266b-4843-d647-91bd738f36f6"
      },
      "execution_count": 3,
      "outputs": [
        {
          "output_type": "execute_result",
          "data": {
            "text/plain": [
              "(50000, 2)"
            ]
          },
          "metadata": {},
          "execution_count": 3
        }
      ]
    },
    {
      "cell_type": "code",
      "source": [
        "from matplotlib import pyplot as plt\n",
        "\n",
        "# Set the size of the figure\n",
        "plt.figure(figsize=(6, 6))\n",
        "\n",
        "# Plot the 'sentiment' column as a bar plot with specified colors\n",
        "df.sentiment.value_counts().plot(kind='bar', color=['darkgreen', 'slategrey'])\n",
        "\n",
        "# Set the title and labels\n",
        "plt.title('Sentiment Distribution of Movie Reviews')\n",
        "plt.xlabel('Sentiment')\n",
        "plt.ylabel('Count')\n",
        "\n",
        "# Rotate x-axis labels\n",
        "plt.xticks(rotation=0)  # 0 degrees rotation\n",
        "\n",
        "# Display the plot\n",
        "plt.show()"
      ],
      "metadata": {
        "colab": {
          "base_uri": "https://localhost:8080/",
          "height": 564
        },
        "id": "olDqwHQ1uldW",
        "outputId": "c9f0e6d1-74be-4cda-8cfd-8c42edd7521d"
      },
      "execution_count": 4,
      "outputs": [
        {
          "output_type": "display_data",
          "data": {
            "text/plain": [
              "<Figure size 600x600 with 1 Axes>"
            ],
            "image/png": "[encoded data removed]"
          },
          "metadata": {}
        }
      ]
    },
    {
      "cell_type": "code",
      "source": [
        "#checking the distribution of sentiment values (positive and negative) in our dataset.\n",
        "df.sentiment.value_counts()"
      ],
      "metadata": {
        "colab": {
          "base_uri": "https://localhost:8080/"
        },
        "id": "uPlYQ-BDAgP_",
        "outputId": "13a12768-b6be-4528-9fe7-27b2c6568a69"
      },
      "execution_count": 5,
      "outputs": [
        {
          "output_type": "execute_result",
          "data": {
            "text/plain": [
              "positive    25000\n",
              "negative    25000\n",
              "Name: sentiment, dtype: int64"
            ]
          },
          "metadata": {},
          "execution_count": 5
        }
      ]
    },
    {
      "cell_type": "code",
      "source": [
        "df['sentiment'].replace({'positive':1,'negative':0},inplace=True)\n",
        "df.head()"
      ],
      "metadata": {
        "colab": {
          "base_uri": "https://localhost:8080/",
          "height": 204
        },
        "id": "Gx8s8wMdvz_v",
        "outputId": "d9bfabad-4a7f-486e-f9c7-b1642fe57b5f"
      },
      "execution_count": 6,
      "outputs": [
        {
          "output_type": "execute_result",
          "data": {
            "text/plain": [
              "                                              review  sentiment\n",
              "0  One of the other reviewers has mentioned that ...          1\n",
              "1  A wonderful little production. <br /><br />The...          1\n",
              "2  I thought this was a wonderful way to spend ti...          1\n",
              "3  Basically there's a family where a little boy ...          0\n",
              "4  Petter Mattei's \"Love in the Time of Money\" is...          1"
            ],
            "text/html": [
              "\n",
              "  <div id=\"df-fa00713b-3517-4dd4-a258-99f87be00919\" class=\"colab-df-container\">\n",
              "    <div>\n",
              "<style scoped>\n",
              "    .dataframe tbody tr th:only-of-type {\n",
              "        vertical-align: middle;\n",
              "    }\n",
              "\n",
              "    .dataframe tbody tr th {\n",
              "        vertical-align: top;\n",
              "    }\n",
              "\n",
              "    .dataframe thead th {\n",
              "        text-align: right;\n",
              "    }\n",
              "</style>\n",
              "<table border=\"1\" class=\"dataframe\">\n",
              "  <thead>\n",
              "    <tr style=\"text-align: right;\">\n",
              "      <th></th>\n",
              "      <th>review</th>\n",
              "      <th>sentiment</th>\n",
              "    </tr>\n",
              "  </thead>\n",
              "  <tbody>\n",
              "    <tr>\n",
              "      <th>0</th>\n",
              "      <td>One of the other reviewers has mentioned that ...</td>\n",
              "      <td>1</td>\n",
              "    </tr>\n",
              "    <tr>\n",
              "      <th>1</th>\n",
              "      <td>A wonderful little production. &lt;br /&gt;&lt;br /&gt;The...</td>\n",
              "      <td>1</td>\n",
              "    </tr>\n",
              "    <tr>\n",
              "      <th>2</th>\n",
              "      <td>I thought this was a wonderful way to spend ti...</td>\n",
              "      <td>1</td>\n",
              "    </tr>\n",
              "    <tr>\n",
              "      <th>3</th>\n",
              "      <td>Basically there's a family where a little boy ...</td>\n",
              "      <td>0</td>\n",
              "    </tr>\n",
              "    <tr>\n",
              "      <th>4</th>\n",
              "      <td>Petter Mattei's \"Love in the Time of Money\" is...</td>\n",
              "      <td>1</td>\n",
              "    </tr>\n",
              "  </tbody>\n",
              "</table>\n",
              "</div>\n",
              "    <div class=\"colab-df-buttons\">\n",
              "\n",
              "  <div class=\"colab-df-container\">\n",
              "    <button class=\"colab-df-convert\" onclick=\"convertToInteractive('df-fa00713b-3517-4dd4-a258-99f87be00919')\"\n",
              "            title=\"Convert this dataframe to an interactive table.\"\n",
              "            style=\"display:none;\">\n",
              "\n",
              "  <svg xmlns=\"http://www.w3.org/2000/svg\" height=\"24px\" viewBox=\"0 -960 960 960\">\n",
              "    <path d=\"M120-120v-720h720v720H120Zm60-500h600v-160H180v160Zm220 220h160v-160H400v160Zm0 220h160v-160H400v160ZM180-400h160v-160H180v160Zm440 0h160v-160H620v160ZM180-180h160v-160H180v160Zm440 0h160v-160H620v160Z\"/>\n",
              "  </svg>\n",
              "    </button>\n",
              "\n",
              "  <style>\n",
              "    .colab-df-container {\n",
              "      display:flex;\n",
              "      gap: 12px;\n",
              "    }\n",
              "\n",
              "    .colab-df-convert {\n",
              "      background-color: #E8F0FE;\n",
              "      border: none;\n",
              "      border-radius: 50%;\n",
              "      cursor: pointer;\n",
              "      display: none;\n",
              "      fill: #1967D2;\n",
              "      height: 32px;\n",
              "      padding: 0 0 0 0;\n",
              "      width: 32px;\n",
              "    }\n",
              "\n",
              "    .colab-df-convert:hover {\n",
              "      background-color: #E2EBFA;\n",
              "      box-shadow: 0px 1px 2px rgba(60, 64, 67, 0.3), 0px 1px 3px 1px rgba(60, 64, 67, 0.15);\n",
              "      fill: #174EA6;\n",
              "    }\n",
              "\n",
              "    .colab-df-buttons div {\n",
              "      margin-bottom: 4px;\n",
              "    }\n",
              "\n",
              "    [theme=dark] .colab-df-convert {\n",
              "      background-color: #3B4455;\n",
              "      fill: #D2E3FC;\n",
              "    }\n",
              "\n",
              "    [theme=dark] .colab-df-convert:hover {\n",
              "      background-color: #434B5C;\n",
              "      box-shadow: 0px 1px 3px 1px rgba(0, 0, 0, 0.15);\n",
              "      filter: drop-shadow(0px 1px 2px rgba(0, 0, 0, 0.3));\n",
              "      fill: #FFFFFF;\n",
              "    }\n",
              "  </style>\n",
              "\n",
              "    <script>\n",
              "      const buttonEl =\n",
              "        document.querySelector('#df-fa00713b-3517-4dd4-a258-99f87be00919 button.colab-df-convert');\n",
              "      buttonEl.style.display =\n",
              "        google.colab.kernel.accessAllowed ? 'block' : 'none';\n",
              "\n",
              "      async function convertToInteractive(key) {\n",
              "        const element = document.querySelector('#df-fa00713b-3517-4dd4-a258-99f87be00919');\n",
              "        const dataTable =\n",
              "          await google.colab.kernel.invokeFunction('convertToInteractive',\n",
              "                                                    [key], {});\n",
              "        if (!dataTable) return;\n",
              "\n",
              "        const docLinkHtml = 'Like what you see? Visit the ' +\n",
              "          '<a target=\"_blank\" href=https://colab.research.google.com/notebooks/data_table.ipynb>data table notebook</a>'\n",
              "          + ' to learn more about interactive tables.';\n",
              "        element.innerHTML = '';\n",
              "        dataTable['output_type'] = 'display_data';\n",
              "        await google.colab.output.renderOutput(dataTable, element);\n",
              "        const docLink = document.createElement('div');\n",
              "        docLink.innerHTML = docLinkHtml;\n",
              "        element.appendChild(docLink);\n",
              "      }\n",
              "    </script>\n",
              "  </div>\n",
              "\n",
              "\n",
              "<div id=\"df-0bc0fda7-9286-4e18-9977-7b8765243a9d\">\n",
              "  <button class=\"colab-df-quickchart\" onclick=\"quickchart('df-0bc0fda7-9286-4e18-9977-7b8765243a9d')\"\n",
              "            title=\"Suggest charts\"\n",
              "            style=\"display:none;\">\n",
              "\n",
              "<svg xmlns=\"http://www.w3.org/2000/svg\" height=\"24px\"viewBox=\"0 0 24 24\"\n",
              "     width=\"24px\">\n",
              "    <g>\n",
              "        <path d=\"M19 3H5c-1.1 0-2 .9-2 2v14c0 1.1.9 2 2 2h14c1.1 0 2-.9 2-2V5c0-1.1-.9-2-2-2zM9 17H7v-7h2v7zm4 0h-2V7h2v10zm4 0h-2v-4h2v4z\"/>\n",
              "    </g>\n",
              "</svg>\n",
              "  </button>\n",
              "\n",
              "<style>\n",
              "  .colab-df-quickchart {\n",
              "      --bg-color: #E8F0FE;\n",
              "      --fill-color: #1967D2;\n",
              "      --hover-bg-color: #E2EBFA;\n",
              "      --hover-fill-color: #174EA6;\n",
              "      --disabled-fill-color: #AAA;\n",
              "      --disabled-bg-color: #DDD;\n",
              "  }\n",
              "\n",
              "  [theme=dark] .colab-df-quickchart {\n",
              "      --bg-color: #3B4455;\n",
              "      --fill-color: #D2E3FC;\n",
              "      --hover-bg-color: #434B5C;\n",
              "      --hover-fill-color: #FFFFFF;\n",
              "      --disabled-bg-color: #3B4455;\n",
              "      --disabled-fill-color: #666;\n",
              "  }\n",
              "\n",
              "  .colab-df-quickchart {\n",
              "    background-color: var(--bg-color);\n",
              "    border: none;\n",
              "    border-radius: 50%;\n",
              "    cursor: pointer;\n",
              "    display: none;\n",
              "    fill: var(--fill-color);\n",
              "    height: 32px;\n",
              "    padding: 0;\n",
              "    width: 32px;\n",
              "  }\n",
              "\n",
              "  .colab-df-quickchart:hover {\n",
              "    background-color: var(--hover-bg-color);\n",
              "    box-shadow: 0 1px 2px rgba(60, 64, 67, 0.3), 0 1px 3px 1px rgba(60, 64, 67, 0.15);\n",
              "    fill: var(--button-hover-fill-color);\n",
              "  }\n",
              "\n",
              "  .colab-df-quickchart-complete:disabled,\n",
              "  .colab-df-quickchart-complete:disabled:hover {\n",
              "    background-color: var(--disabled-bg-color);\n",
              "    fill: var(--disabled-fill-color);\n",
              "    box-shadow: none;\n",
              "  }\n",
              "\n",
              "  .colab-df-spinner {\n",
              "    border: 2px solid var(--fill-color);\n",
              "    border-color: transparent;\n",
              "    border-bottom-color: var(--fill-color);\n",
              "    animation:\n",
              "      spin 1s steps(1) infinite;\n",
              "  }\n",
              "\n",
              "  @keyframes spin {\n",
              "    0% {\n",
              "      border-color: transparent;\n",
              "      border-bottom-color: var(--fill-color);\n",
              "      border-left-color: var(--fill-color);\n",
              "    }\n",
              "    20% {\n",
              "      border-color: transparent;\n",
              "      border-left-color: var(--fill-color);\n",
              "      border-top-color: var(--fill-color);\n",
              "    }\n",
              "    30% {\n",
              "      border-color: transparent;\n",
              "      border-left-color: var(--fill-color);\n",
              "      border-top-color: var(--fill-color);\n",
              "      border-right-color: var(--fill-color);\n",
              "    }\n",
              "    40% {\n",
              "      border-color: transparent;\n",
              "      border-right-color: var(--fill-color);\n",
              "      border-top-color: var(--fill-color);\n",
              "    }\n",
              "    60% {\n",
              "      border-color: transparent;\n",
              "      border-right-color: var(--fill-color);\n",
              "    }\n",
              "    80% {\n",
              "      border-color: transparent;\n",
              "      border-right-color: var(--fill-color);\n",
              "      border-bottom-color: var(--fill-color);\n",
              "    }\n",
              "    90% {\n",
              "      border-color: transparent;\n",
              "      border-bottom-color: var(--fill-color);\n",
              "    }\n",
              "  }\n",
              "</style>\n",
              "\n",
              "  <script>\n",
              "    async function quickchart(key) {\n",
              "      const quickchartButtonEl =\n",
              "        document.querySelector('#' + key + ' button');\n",
              "      quickchartButtonEl.disabled = true;  // To prevent multiple clicks.\n",
              "      quickchartButtonEl.classList.add('colab-df-spinner');\n",
              "      try {\n",
              "        const charts = await google.colab.kernel.invokeFunction(\n",
              "            'suggestCharts', [key], {});\n",
              "      } catch (error) {\n",
              "        console.error('Error during call to suggestCharts:', error);\n",
              "      }\n",
              "      quickchartButtonEl.classList.remove('colab-df-spinner');\n",
              "      quickchartButtonEl.classList.add('colab-df-quickchart-complete');\n",
              "    }\n",
              "    (() => {\n",
              "      let quickchartButtonEl =\n",
              "        document.querySelector('#df-0bc0fda7-9286-4e18-9977-7b8765243a9d button');\n",
              "      quickchartButtonEl.style.display =\n",
              "        google.colab.kernel.accessAllowed ? 'block' : 'none';\n",
              "    })();\n",
              "  </script>\n",
              "</div>\n",
              "    </div>\n",
              "  </div>\n"
            ],
            "application/vnd.google.colaboratory.intrinsic+json": {
              "type": "dataframe",
              "variable_name": "df",
              "summary": "{\n  \"name\": \"df\",\n  \"rows\": 50000,\n  \"fields\": [\n    {\n      \"column\": \"review\",\n      \"properties\": {\n        \"dtype\": \"string\",\n        \"num_unique_values\": 49582,\n        \"samples\": [\n          \"\\\"Soul Plane\\\" is a horrible attempt at comedy that only should appeal people with thick skulls, bloodshot eyes and furry pawns. <br /><br />The plot is not only incoherent but also non-existent, acting is mostly sub sub-par with a gang of highly moronic and dreadful characters thrown in for bad measure, jokes are often spotted miles ahead and almost never even a bit amusing. This movie lacks any structure and is full of racial stereotypes that must have seemed old even in the fifties, the only thing it really has going for it is some pretty ladies, but really, if you want that you can rent something from the \\\"Adult\\\" section. OK?<br /><br />I can hardly see anything here to recommend since you'll probably have a lot a better and productive time chasing rats with a sledgehammer or inventing waterproof teabags or whatever.<br /><br />2/10\",\n          \"Guest from the Future tells a fascinating story of time travel, friendship, battle of good and evil -- all with a small budget, child actors, and few special effects. Something for Spielberg and Lucas to learn from. ;) A sixth-grader Kolya \\\"Nick\\\" Gerasimov finds a time machine in the basement of a decrepit building and travels 100 years into the future. He discovers a near-perfect, utopian society where robots play guitars and write poetry, everyone is kind to each other and people enjoy everything technology has to offer. Alice is the daughter of a prominent scientist who invented a device called Mielophone that allows to read minds of humans and animals. The device can be put to both good and bad use, depending on whose hands it falls into. When two evil space pirates from Saturn who want to rule the universe attempt to steal Mielophone, it falls into the hands of 20th century school boy Nick. With the pirates hot on his tracks, he travels back to his time, followed by the pirates, and Alice. Chaos, confusion and funny situations follow as the luckless pirates try to blend in with the earthlings. Alice enrolls in the same school Nick goes to and demonstrates superhuman abilities in PE class. The catch is, Alice doesn't know what Nick looks like, while the pirates do. Also, the pirates are able to change their appearance and turn literally into anyone. (Hmm, I wonder if this is where James Cameron got the idea for Terminator...) Who gets to Nick -- and Mielophone -- first? Excellent plot, non-stop adventures, and great soundtrack. I wish Hollywood made kid movies like this one...\",\n          \"\\\"National Treasure\\\" (2004) is a thoroughly misguided hodge-podge of plot entanglements that borrow from nearly every cloak and dagger government conspiracy clich\\u00e9 that has ever been written. The film stars Nicholas Cage as Benjamin Franklin Gates (how precious is that, I ask you?); a seemingly normal fellow who, for no other reason than being of a lineage of like-minded misguided fortune hunters, decides to steal a 'national treasure' that has been hidden by the United States founding fathers. After a bit of subtext and background that plays laughably (unintentionally) like Indiana Jones meets The Patriot, the film degenerates into one misguided whimsy after another \\u0096 attempting to create a 'Stanley Goodspeed' regurgitation of Nicholas Cage and launch the whole convoluted mess forward with a series of high octane, but disconnected misadventures.<br /><br />The relevancy and logic to having George Washington and his motley crew of patriots burying a king's ransom someplace on native soil, and then, going through the meticulous plan of leaving clues scattered throughout U.S. currency art work, is something that director Jon Turteltaub never quite gets around to explaining. Couldn't Washington found better usage for such wealth during the start up of the country? Hence, we are left with a mystery built on top of an enigma that is already on shaky ground by the time Ben appoints himself the new custodian of this untold wealth. Ben's intentions are noble \\u0096 if confusing. He's set on protecting the treasure. For who and when?\\u0085your guess is as good as mine.<br /><br />But there are a few problems with Ben's crusade. First up, his friend, Ian Holmes (Sean Bean) decides that he can't wait for Ben to make up his mind about stealing the Declaration of Independence from the National Archives (oh, yeah \\u0096 brilliant idea!). Presumably, the back of that famous document holds the secret answer to the ultimate fortune. So Ian tries to kill Ben. The assassination attempt is, of course, unsuccessful, if overly melodramatic. It also affords Ben the opportunity to pick up, and pick on, the very sultry curator of the archives, Abigail Chase (Diane Kruger). She thinks Ben is clearly a nut \\u0096 at least at the beginning. But true to action/romance form, Abby's resolve melts quicker than you can say, \\\"is that the Hope Diamond?\\\" The film moves into full X-File-ish mode, as the FBI, mistakenly believing that Ben is behind the theft, retaliate in various benign ways that lead to a multi-layering of action sequences reminiscent of Mission Impossible meets The Fugitive. Honestly, don't those guys ever get 'intelligence' information that is correct? In the final analysis, \\\"National Treasure\\\" isn't great film making, so much as it's a patchwork rehash of tired old bits from other movies, woven together from scraps, the likes of which would make IL' Betsy Ross blush.<br /><br />The Buena Vista DVD delivers a far more generous treatment than this film is deserving of. The anamorphic widescreen picture exhibits a very smooth and finely detailed image with very rich colors, natural flesh tones, solid blacks and clean whites. The stylized image is also free of blemishes and digital enhancements. The audio is 5.1 and delivers a nice sonic boom to your side and rear speakers with intensity and realism. Extras include a host of promotional junket material that is rather deep and over the top in its explanation of how and why this film was made. If only, as an audience, we had had more clarification as to why Ben and co. were chasing after an illusive treasure, this might have been one good flick. Extras conclude with the theatrical trailer, audio commentary and deleted scenes. Not for the faint-hearted \\u0096 just the thick-headed.\"\n        ],\n        \"semantic_type\": \"\",\n        \"description\": \"\"\n      }\n    },\n    {\n      \"column\": \"sentiment\",\n      \"properties\": {\n        \"dtype\": \"number\",\n        \"std\": 0,\n        \"min\": 0,\n        \"max\": 1,\n        \"num_unique_values\": 2,\n        \"samples\": [\n          0,\n          1\n        ],\n        \"semantic_type\": \"\",\n        \"description\": \"\"\n      }\n    }\n  ]\n}"
            }
          },
          "metadata": {},
          "execution_count": 6
        }
      ]
    },
    {
      "cell_type": "markdown",
      "source": [
        "![BERT.webp](data:image/webp;base64,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)"
      ],
      "metadata": {
        "id": "sIEPGZiodRa9"
      }
    },
    {
      "cell_type": "markdown",
      "source": [
        "Source: https://medium.com/@alexmriggio/bert-for-sequence-classification-from-scratch-code-and-theory-fb88053800fa"
      ],
      "metadata": {
        "id": "BmsiW0HwUFs4"
      }
    },
    {
      "cell_type": "markdown",
      "source": [
        "###Text preprocessing:\n",
        "\n",
        "- HTML Tag Removal\n",
        "- Lowercasing: coverting the reviews to lower case\n",
        "- Remove Special Characters: Remove special characters, punctuation, and other noise\n",
        "- Removing Stopwords: remove stopwords (common words like \"the,\" \"is,\" \"and\")\n",
        "- Stemming or Lemmatization: Optionally, you can apply stemming or lemmatization to reduce words to their base form (e.g., \"running\" to \"run\").\n",
        "- Tokenization: Tokenize the text into individual words or subwords. BERT uses WordPiece tokenization, but you can use tokenization libraries such as Hugging Face's transformers or TensorFlow's Tokenizer for this purpose."
      ],
      "metadata": {
        "id": "vR2CK1QQw3eN"
      }
    },
    {
      "cell_type": "code",
      "source": [
        "df['review'][0]"
      ],
      "metadata": {
        "colab": {
          "base_uri": "https://localhost:8080/",
          "height": 140
        },
        "id": "ajgxcQCrxShg",
        "outputId": "22148f84-5cf3-4219-bd69-509f11fa51fb"
      },
      "execution_count": 7,
      "outputs": [
        {
          "output_type": "execute_result",
          "data": {
            "text/plain": [
              "\"One of the other reviewers has mentioned that after watching just 1 Oz episode you'll be hooked. They are right, as this is exactly what happened with me.<br /><br />The first thing that struck me about Oz was its brutality and unflinching scenes of violence, which set in right from the word GO. Trust me, this is not a show for the faint hearted or timid. This show pulls no punches with regards to drugs, sex or violence. Its is hardcore, in the classic use of the word.<br /><br />It is called OZ as that is the nickname given to the Oswald Maximum Security State Penitentary. It focuses mainly on Emerald City, an experimental section of the prison where all the cells have glass fronts and face inwards, so privacy is not high on the agenda. Em City is home to many..Aryans, Muslims, gangstas, Latinos, Christians, Italians, Irish and more....so scuffles, death stares, dodgy dealings and shady agreements are never far away.<br /><br />I would say the main appeal of the show is due to the fact that it goes where other shows wouldn't dare. Forget pretty pictures painted for mainstream audiences, forget charm, forget romance...OZ doesn't mess around. The first episode I ever saw struck me as so nasty it was surreal, I couldn't say I was ready for it, but as I watched more, I developed a taste for Oz, and got accustomed to the high levels of graphic violence. Not just violence, but injustice (crooked guards who'll be sold out for a nickel, inmates who'll kill on order and get away with it, well mannered, middle class inmates being turned into prison bitches due to their lack of street skills or prison experience) Watching Oz, you may become comfortable with what is uncomfortable viewing....thats if you can get in touch with your darker side.\""
            ],
            "application/vnd.google.colaboratory.intrinsic+json": {
              "type": "string"
            }
          },
          "metadata": {},
          "execution_count": 7
        }
      ]
    },
    {
      "cell_type": "code",
      "source": [
        "import re\n",
        "\n",
        "# Define function to remove HTML tags\n",
        "def remove_html_tags(text):\n",
        "    pattern = re.compile('<.*?>')  # takes a text input and uses a regular expression pattern to remove HTML tags from it.\n",
        "    return pattern.sub(r'', text)  # Remove HTML tags by an empty string\n",
        "\n",
        "# Apply the remove_html_tags function to the 'review' column\n",
        "df['review'] = df['review'].apply(remove_html_tags)\n"
      ],
      "metadata": {
        "id": "WhExcAcbvd8P"
      },
      "execution_count": 8,
      "outputs": []
    },
    {
      "cell_type": "code",
      "source": [
        "#Converting data into lowercase since python is case sensitive\n",
        "df['review']=df['review'].str.lower()"
      ],
      "metadata": {
        "id": "rhe7O0zfxdgn"
      },
      "execution_count": 9,
      "outputs": []
    },
    {
      "cell_type": "code",
      "source": [
        "df['review'][0]"
      ],
      "metadata": {
        "colab": {
          "base_uri": "https://localhost:8080/",
          "height": 140
        },
        "id": "eFcXQDNK0jwb",
        "outputId": "f61ae07c-bee6-47e8-de6a-9919c9d2c87f"
      },
      "execution_count": 10,
      "outputs": [
        {
          "output_type": "execute_result",
          "data": {
            "text/plain": [
              "\"one of the other reviewers has mentioned that after watching just 1 oz episode you'll be hooked. they are right, as this is exactly what happened with me.the first thing that struck me about oz was its brutality and unflinching scenes of violence, which set in right from the word go. trust me, this is not a show for the faint hearted or timid. this show pulls no punches with regards to drugs, sex or violence. its is hardcore, in the classic use of the word.it is called oz as that is the nickname given to the oswald maximum security state penitentary. it focuses mainly on emerald city, an experimental section of the prison where all the cells have glass fronts and face inwards, so privacy is not high on the agenda. em city is home to many..aryans, muslims, gangstas, latinos, christians, italians, irish and more....so scuffles, death stares, dodgy dealings and shady agreements are never far away.i would say the main appeal of the show is due to the fact that it goes where other shows wouldn't dare. forget pretty pictures painted for mainstream audiences, forget charm, forget romance...oz doesn't mess around. the first episode i ever saw struck me as so nasty it was surreal, i couldn't say i was ready for it, but as i watched more, i developed a taste for oz, and got accustomed to the high levels of graphic violence. not just violence, but injustice (crooked guards who'll be sold out for a nickel, inmates who'll kill on order and get away with it, well mannered, middle class inmates being turned into prison bitches due to their lack of street skills or prison experience) watching oz, you may become comfortable with what is uncomfortable viewing....thats if you can get in touch with your darker side.\""
            ],
            "application/vnd.google.colaboratory.intrinsic+json": {
              "type": "string"
            }
          },
          "metadata": {},
          "execution_count": 10
        }
      ]
    },
    {
      "cell_type": "code",
      "source": [
        "#removing URLs from text using regular expression pattern to match URLs starting with \"http://\" or \"https://\" as well as URLs starting with \"www.\"\n",
        "def remove_url(text):\n",
        "    pattern = re.compile(r'https?://\\S+ | www\\. \\S+')\n",
        "    return pattern.sub(r'', text)\n",
        "\n",
        "df['review'] = df['review'].apply(remove_url)\n",
        "\n",
        "df.head()['review'][0]"
      ],
      "metadata": {
        "colab": {
          "base_uri": "https://localhost:8080/",
          "height": 140
        },
        "id": "cYYZhFoJ09kp",
        "outputId": "2c97ba1e-1d23-4453-d071-94fddec6444b"
      },
      "execution_count": 11,
      "outputs": [
        {
          "output_type": "execute_result",
          "data": {
            "text/plain": [
              "\"one of the other reviewers has mentioned that after watching just 1 oz episode you'll be hooked. they are right, as this is exactly what happened with me.the first thing that struck me about oz was its brutality and unflinching scenes of violence, which set in right from the word go. trust me, this is not a show for the faint hearted or timid. this show pulls no punches with regards to drugs, sex or violence. its is hardcore, in the classic use of the word.it is called oz as that is the nickname given to the oswald maximum security state penitentary. it focuses mainly on emerald city, an experimental section of the prison where all the cells have glass fronts and face inwards, so privacy is not high on the agenda. em city is home to many..aryans, muslims, gangstas, latinos, christians, italians, irish and more....so scuffles, death stares, dodgy dealings and shady agreements are never far away.i would say the main appeal of the show is due to the fact that it goes where other shows wouldn't dare. forget pretty pictures painted for mainstream audiences, forget charm, forget romance...oz doesn't mess around. the first episode i ever saw struck me as so nasty it was surreal, i couldn't say i was ready for it, but as i watched more, i developed a taste for oz, and got accustomed to the high levels of graphic violence. not just violence, but injustice (crooked guards who'll be sold out for a nickel, inmates who'll kill on order and get away with it, well mannered, middle class inmates being turned into prison bitches due to their lack of street skills or prison experience) watching oz, you may become comfortable with what is uncomfortable viewing....thats if you can get in touch with your darker side.\""
            ],
            "application/vnd.google.colaboratory.intrinsic+json": {
              "type": "string"
            }
          },
          "metadata": {},
          "execution_count": 11
        }
      ]
    },
    {
      "cell_type": "code",
      "source": [
        "#removing punctuation\n",
        "\n",
        "import string\n",
        "exclude = string.punctuation\n",
        "\n",
        "def remove_punc(text):\n",
        "    return text.translate(str.maketrans('', '', exclude))\n",
        "\n",
        "df['review'] = df['review'].apply(remove_punc)\n",
        "\n",
        "df['review'][0]"
      ],
      "metadata": {
        "colab": {
          "base_uri": "https://localhost:8080/",
          "height": 140
        },
        "id": "5z6YjYag1Jhi",
        "outputId": "d990d4e4-5bd5-4415-d688-294fb9ad72b2"
      },
      "execution_count": 12,
      "outputs": [
        {
          "output_type": "execute_result",
          "data": {
            "text/plain": [
              "'one of the other reviewers has mentioned that after watching just 1 oz episode youll be hooked they are right as this is exactly what happened with methe first thing that struck me about oz was its brutality and unflinching scenes of violence which set in right from the word go trust me this is not a show for the faint hearted or timid this show pulls no punches with regards to drugs sex or violence its is hardcore in the classic use of the wordit is called oz as that is the nickname given to the oswald maximum security state penitentary it focuses mainly on emerald city an experimental section of the prison where all the cells have glass fronts and face inwards so privacy is not high on the agenda em city is home to manyaryans muslims gangstas latinos christians italians irish and moreso scuffles death stares dodgy dealings and shady agreements are never far awayi would say the main appeal of the show is due to the fact that it goes where other shows wouldnt dare forget pretty pictures painted for mainstream audiences forget charm forget romanceoz doesnt mess around the first episode i ever saw struck me as so nasty it was surreal i couldnt say i was ready for it but as i watched more i developed a taste for oz and got accustomed to the high levels of graphic violence not just violence but injustice crooked guards wholl be sold out for a nickel inmates wholl kill on order and get away with it well mannered middle class inmates being turned into prison bitches due to their lack of street skills or prison experience watching oz you may become comfortable with what is uncomfortable viewingthats if you can get in touch with your darker side'"
            ],
            "application/vnd.google.colaboratory.intrinsic+json": {
              "type": "string"
            }
          },
          "metadata": {},
          "execution_count": 12
        }
      ]
    },
    {
      "cell_type": "code",
      "source": [
        "#Removing stopwords\n",
        "!pip install nltk\n",
        "import nltk\n",
        "from nltk.corpus import stopwords\n",
        "\n",
        "nltk.download('stopwords')\n",
        "\n",
        "# Get the English stop words set from NLTK\n",
        "stop_words = set(stopwords.words('english'))\n",
        "\n",
        "# Function to remove stop words\n",
        "def remove_stopwords(text):\n",
        "    words = text.split()\n",
        "    # Remove stop words\n",
        "    filtered_words = [word for word in words if word.lower() not in stop_words]\n",
        "    # Join the filtered words back into a single string\n",
        "    return ' '.join(filtered_words)\n",
        "\n",
        "# Apply the remove_stopwords function to the 'review' column\n",
        "df['review'] = df['review'].apply(remove_stopwords)\n",
        "\n",
        "df['review'][0]\n"
      ],
      "metadata": {
        "colab": {
          "base_uri": "https://localhost:8080/",
          "height": 259
        },
        "id": "_2zXsDRP1iux",
        "outputId": "02fe8c82-11e5-43db-827a-74fbc75adcf2"
      },
      "execution_count": 13,
      "outputs": [
        {
          "output_type": "stream",
          "name": "stdout",
          "text": [
            "Requirement already satisfied: nltk in /usr/local/lib/python3.10/dist-packages (3.8.1)\n",
            "Requirement already satisfied: click in /usr/local/lib/python3.10/dist-packages (from nltk) (8.1.7)\n",
            "Requirement already satisfied: joblib in /usr/local/lib/python3.10/dist-packages (from nltk) (1.3.2)\n",
            "Requirement already satisfied: regex>=2021.8.3 in /usr/local/lib/python3.10/dist-packages (from nltk) (2023.12.25)\n",
            "Requirement already satisfied: tqdm in /usr/local/lib/python3.10/dist-packages (from nltk) (4.66.2)\n"
          ]
        },
        {
          "output_type": "stream",
          "name": "stderr",
          "text": [
            "[nltk_data] Downloading package stopwords to /root/nltk_data...\n",
            "[nltk_data]   Unzipping corpora/stopwords.zip.\n"
          ]
        },
        {
          "output_type": "execute_result",
          "data": {
            "text/plain": [
              "'one reviewers mentioned watching 1 oz episode youll hooked right exactly happened methe first thing struck oz brutality unflinching scenes violence set right word go trust show faint hearted timid show pulls punches regards drugs sex violence hardcore classic use wordit called oz nickname given oswald maximum security state penitentary focuses mainly emerald city experimental section prison cells glass fronts face inwards privacy high agenda em city home manyaryans muslims gangstas latinos christians italians irish moreso scuffles death stares dodgy dealings shady agreements never far awayi would say main appeal show due fact goes shows wouldnt dare forget pretty pictures painted mainstream audiences forget charm forget romanceoz doesnt mess around first episode ever saw struck nasty surreal couldnt say ready watched developed taste oz got accustomed high levels graphic violence violence injustice crooked guards wholl sold nickel inmates wholl kill order get away well mannered middle class inmates turned prison bitches due lack street skills prison experience watching oz may become comfortable uncomfortable viewingthats get touch darker side'"
            ],
            "application/vnd.google.colaboratory.intrinsic+json": {
              "type": "string"
            }
          },
          "metadata": {},
          "execution_count": 13
        }
      ]
    },
    {
      "cell_type": "markdown",
      "source": [
        "### BERT model preprocessing"
      ],
      "metadata": {
        "id": "jDRT02CguyqL"
      }
    },
    {
      "cell_type": "markdown",
      "source": [
        "- tokenization, padding, and conversion to tensors for BERT model\n",
        "\n",
        "- We need our data in a certain format before we pass it to the Bert base uncased, this model requires input_ids, token_type_ids, attention_mask, label, and text.\n",
        "\n",
        "- We access the tokenized inputs (input_ids) and attention masks (attention_masks), which are essential for BERT input format."
      ],
      "metadata": {
        "id": "IgThBo3WzQ-W"
      }
    },
    {
      "cell_type": "code",
      "source": [
        "import gzip\n",
        "import shutil\n",
        "import time\n",
        "\n",
        "import pandas as pd\n",
        "import requests\n",
        "import torch\n",
        "import torch.nn.functional as F\n",
        "import torchtext\n"
      ],
      "metadata": {
        "id": "ghrNdL9TYGmU"
      },
      "execution_count": 14,
      "outputs": []
    },
    {
      "cell_type": "code",
      "source": [
        "train_texts = df.iloc[:5000]['review'].values\n",
        "train_labels = df.iloc[:5000]['sentiment'].values\n",
        "\n",
        "\n",
        "\n",
        "test_texts = df.iloc[-1000:]['review'].values\n",
        "test_labels = df.iloc[-1000:]['sentiment'].values"
      ],
      "metadata": {
        "id": "I2hxUMkDYLS8"
      },
      "execution_count": 34,
      "outputs": []
    },
    {
      "cell_type": "code",
      "source": [
        "print(\"Shape of trainset: \", train_texts.shape)\n",
        "print(\"Shape pf testset: \", test_texts.shape)"
      ],
      "metadata": {
        "colab": {
          "base_uri": "https://localhost:8080/"
        },
        "id": "3ynQvtkxYTst",
        "outputId": "1a6db989-b742-42c7-c116-d1aa2f145a34"
      },
      "execution_count": 35,
      "outputs": [
        {
          "output_type": "stream",
          "name": "stdout",
          "text": [
            "Shape of trainset:  (5000,)\n",
            "Shape pf testset:  (1000,)\n"
          ]
        }
      ]
    },
    {
      "cell_type": "markdown",
      "source": [
        "##Tokenization"
      ],
      "metadata": {
        "id": "eVwxKVhEaf2F"
      }
    },
    {
      "cell_type": "code",
      "source": [
        "import torch\n",
        "from transformers import DistilBertForSequenceClassification, DistilBertTokenizerFast\n",
        "from torch.utils.data import DataLoader, Dataset\n",
        "from transformers import AdamW\n",
        "import torch.nn as nn"
      ],
      "metadata": {
        "id": "AL_Z2jP3bANV"
      },
      "execution_count": 38,
      "outputs": []
    },
    {
      "cell_type": "code",
      "source": [
        "tokenizer = DistilBertTokenizerFast.from_pretrained('distilbert-base-uncased')\n",
        "\n",
        "# Tokenize the reviews and convert to tensors\n",
        "train_encodings = tokenizer(list(train_texts), truncation=True, padding=True)\n",
        "test_encodings = tokenizer(list(test_texts), truncation=True, padding=True)\n",
        "\n",
        "train_encodings[0]"
      ],
      "metadata": {
        "colab": {
          "base_uri": "https://localhost:8080/"
        },
        "id": "7sU7LzDWuYcE",
        "outputId": "b88c8301-211e-47bf-df24-5188604eb12e"
      },
      "execution_count": 39,
      "outputs": [
        {
          "output_type": "execute_result",
          "data": {
            "text/plain": [
              "Encoding(num_tokens=512, attributes=[ids, type_ids, tokens, offsets, attention_mask, special_tokens_mask, overflowing])"
            ]
          },
          "metadata": {},
          "execution_count": 39
        }
      ]
    },
    {
      "cell_type": "code",
      "source": [
        "\n",
        "class IMDbDataset(torch.utils.data.Dataset):\n",
        "    def __init__(self, encodings, labels):\n",
        "        self.encodings = encodings\n",
        "        self.labels = labels\n",
        "\n",
        "    def __getitem__(self, idx):\n",
        "        item = {key: torch.tensor(val[idx]) for key, val in self.encodings.items()}\n",
        "        item['labels'] = torch.tensor(self.labels[idx])\n",
        "        return item\n",
        "\n",
        "    def __len__(self):\n",
        "        return len(self.labels)\n",
        "\n",
        "\n",
        "train_dataset = IMDbDataset(train_encodings, train_labels)\n",
        "test_dataset = IMDbDataset(test_encodings, test_labels)"
      ],
      "metadata": {
        "id": "Li8mS4T2tqJm"
      },
      "execution_count": 40,
      "outputs": []
    },
    {
      "cell_type": "code",
      "source": [
        "# Create DataLoader for training and test sets\n",
        "train_loader = torch.utils.data.DataLoader(train_dataset, batch_size=4, shuffle=True)\n",
        "test_loader = torch.utils.data.DataLoader(test_dataset, batch_size=4, shuffle=False)"
      ],
      "metadata": {
        "id": "CkFoNgljuoRI"
      },
      "execution_count": 41,
      "outputs": []
    },
    {
      "cell_type": "markdown",
      "source": [
        "##Train Model"
      ],
      "metadata": {
        "id": "AJqNDFv-beeu"
      }
    },
    {
      "cell_type": "code",
      "source": [
        "model = DistilBertForSequenceClassification.from_pretrained('distilbert-base-uncased')\n",
        "DEVICE = 'cuda:0' if torch.cuda.is_available() else 'cpu'\n",
        "model.to(DEVICE).cuda()\n",
        "\n",
        "model.train()\n",
        "\n",
        "optim = torch.optim.Adam(model.parameters(), lr=5e-5)"
      ],
      "metadata": {
        "id": "IoYcbcXZCeac",
        "colab": {
          "base_uri": "https://localhost:8080/"
        },
        "outputId": "485bb32e-9ef5-4084-b071-da570bdea14f"
      },
      "execution_count": 47,
      "outputs": [
        {
          "output_type": "stream",
          "name": "stderr",
          "text": [
            "Some weights of DistilBertForSequenceClassification were not initialized from the model checkpoint at distilbert-base-uncased and are newly initialized: ['classifier.bias', 'classifier.weight', 'pre_classifier.bias', 'pre_classifier.weight']\n",
            "You should probably TRAIN this model on a down-stream task to be able to use it for predictions and inference.\n"
          ]
        }
      ]
    },
    {
      "cell_type": "code",
      "source": [
        "def compute_accuracy(model, data_loader, device):\n",
        "\n",
        "    with torch.no_grad():\n",
        "\n",
        "        correct_pred, num_examples = 0, 0\n",
        "\n",
        "        for batch_idx, batch in enumerate(data_loader):\n",
        "\n",
        "            ### Prepare data\n",
        "            input_ids = batch['input_ids'].to(device)\n",
        "            attention_mask = batch['attention_mask'].to(device)\n",
        "            labels = batch['labels'].to(device)\n",
        "\n",
        "            outputs = model(input_ids, attention_mask=attention_mask, labels=labels)\n",
        "            loss, logits = outputs['loss'], outputs['logits']\n",
        "\n",
        "            _, predicted_labels = torch.max(logits, 1)\n",
        "\n",
        "            num_examples += labels.size(0)\n",
        "\n",
        "            correct_pred += (predicted_labels == labels).sum()\n",
        "    return correct_pred.float()/num_examples * 100"
      ],
      "metadata": {
        "id": "87F4vjqOKQbE"
      },
      "execution_count": 48,
      "outputs": []
    },
    {
      "cell_type": "code",
      "source": [
        "#General settings\n",
        "\n",
        "torch.backends.cudnn.deterministic = True\n",
        "RANDOM_SEED = 123\n",
        "torch.manual_seed(RANDOM_SEED)\n",
        "DEVICE = torch.device('cuda:3' if torch.cuda.is_available() else 'cpu')\n",
        "\n",
        "NUM_EPOCHS = 3"
      ],
      "metadata": {
        "id": "bQocZGAuYJ6K"
      },
      "execution_count": 15,
      "outputs": []
    },
    {
      "cell_type": "code",
      "source": [
        "start_time = time.time()\n",
        "\n",
        "for epoch in range(NUM_EPOCHS):\n",
        "\n",
        "    model.train()\n",
        "\n",
        "    for batch_idx, batch in enumerate(train_loader):\n",
        "\n",
        "        ### Prepare data\n",
        "        input_ids = batch['input_ids'].to(DEVICE)\n",
        "        attention_mask = batch['attention_mask'].to(DEVICE)\n",
        "        labels = batch['labels'].to(DEVICE)\n",
        "\n",
        "        ### Forward\n",
        "        outputs = model(input_ids, attention_mask=attention_mask, labels=labels)\n",
        "        loss, logits = outputs['loss'], outputs['logits']\n",
        "\n",
        "        ### Backward\n",
        "        optim.zero_grad()\n",
        "        loss.backward()\n",
        "        optim.step()\n",
        "\n",
        "        ### Logging\n",
        "        if not batch_idx % 250:\n",
        "            print (f'Epoch: {epoch+1:04d}/{NUM_EPOCHS:04d} | '\n",
        "                   f'Batch {batch_idx:04d}/{len(train_loader):04d} | '\n",
        "                   f'Loss: {loss:.4f}')\n",
        "\n",
        "    model.eval()\n",
        "\n",
        "    with torch.set_grad_enabled(False):\n",
        "        print(f'training accuracy: '\n",
        "              f'{compute_accuracy(model, train_loader, DEVICE):.2f}%'\n",
        "              f'\\nvalid accuracy: '\n",
        "              f'{compute_accuracy(model, test_loader, DEVICE):.2f}%')\n",
        "\n",
        "    print(f'Time elapsed: {(time.time() - start_time)/60:.2f} min')\n",
        "\n",
        "print(f'Total Training Time: {(time.time() - start_time)/60:.2f} min')\n",
        "print(f'Test accuracy: {compute_accuracy(model, test_loader, DEVICE):.2f}%')"
      ],
      "metadata": {
        "colab": {
          "base_uri": "https://localhost:8080/"
        },
        "id": "xjgX_Rg9KR0F",
        "outputId": "c9a0f46b-88fe-418d-f0b7-ed51e06bf7ae"
      },
      "execution_count": 50,
      "outputs": [
        {
          "output_type": "stream",
          "name": "stdout",
          "text": [
            "Epoch: 0001/0003 | Batch 0000/1250 | Loss: 1.1086\n",
            "Epoch: 0001/0003 | Batch 0250/1250 | Loss: 0.2470\n",
            "Epoch: 0001/0003 | Batch 0500/1250 | Loss: 0.0714\n",
            "Epoch: 0001/0003 | Batch 0750/1250 | Loss: 0.0228\n",
            "Epoch: 0001/0003 | Batch 1000/1250 | Loss: 0.3356\n",
            "training accuracy: 97.12%\n",
            "valid accuracy: 85.00%\n",
            "Time elapsed: 5.94 min\n",
            "Epoch: 0002/0003 | Batch 0000/1250 | Loss: 0.0136\n",
            "Epoch: 0002/0003 | Batch 0250/1250 | Loss: 1.1436\n",
            "Epoch: 0002/0003 | Batch 0500/1250 | Loss: 0.0089\n",
            "Epoch: 0002/0003 | Batch 0750/1250 | Loss: 0.5501\n",
            "Epoch: 0002/0003 | Batch 1000/1250 | Loss: 0.0692\n",
            "training accuracy: 98.98%\n",
            "valid accuracy: 85.90%\n",
            "Time elapsed: 11.85 min\n",
            "Epoch: 0003/0003 | Batch 0000/1250 | Loss: 0.0100\n",
            "Epoch: 0003/0003 | Batch 0250/1250 | Loss: 0.0031\n",
            "Epoch: 0003/0003 | Batch 0500/1250 | Loss: 0.0028\n",
            "Epoch: 0003/0003 | Batch 0750/1250 | Loss: 0.0133\n",
            "Epoch: 0003/0003 | Batch 1000/1250 | Loss: 0.0334\n",
            "training accuracy: 99.52%\n",
            "valid accuracy: 85.30%\n",
            "Time elapsed: 17.76 min\n",
            "Total Training Time: 17.76 min\n",
            "Test accuracy: 85.30%\n"
          ]
        }
      ]
    },
    {
      "cell_type": "code",
      "source": [
        "model.eval()"
      ],
      "metadata": {
        "id": "j8L56KSQcUV5",
        "colab": {
          "base_uri": "https://localhost:8080/"
        },
        "outputId": "168ad555-3b17-4595-d23a-f5a22eb75270"
      },
      "execution_count": 51,
      "outputs": [
        {
          "output_type": "execute_result",
          "data": {
            "text/plain": [
              "DistilBertForSequenceClassification(\n",
              "  (distilbert): DistilBertModel(\n",
              "    (embeddings): Embeddings(\n",
              "      (word_embeddings): Embedding(30522, 768, padding_idx=0)\n",
              "      (position_embeddings): Embedding(512, 768)\n",
              "      (LayerNorm): LayerNorm((768,), eps=1e-12, elementwise_affine=True)\n",
              "      (dropout): Dropout(p=0.1, inplace=False)\n",
              "    )\n",
              "    (transformer): Transformer(\n",
              "      (layer): ModuleList(\n",
              "        (0-5): 6 x TransformerBlock(\n",
              "          (attention): MultiHeadSelfAttention(\n",
              "            (dropout): Dropout(p=0.1, inplace=False)\n",
              "            (q_lin): Linear(in_features=768, out_features=768, bias=True)\n",
              "            (k_lin): Linear(in_features=768, out_features=768, bias=True)\n",
              "            (v_lin): Linear(in_features=768, out_features=768, bias=True)\n",
              "            (out_lin): Linear(in_features=768, out_features=768, bias=True)\n",
              "          )\n",
              "          (sa_layer_norm): LayerNorm((768,), eps=1e-12, elementwise_affine=True)\n",
              "          (ffn): FFN(\n",
              "            (dropout): Dropout(p=0.1, inplace=False)\n",
              "            (lin1): Linear(in_features=768, out_features=3072, bias=True)\n",
              "            (lin2): Linear(in_features=3072, out_features=768, bias=True)\n",
              "            (activation): GELUActivation()\n",
              "          )\n",
              "          (output_layer_norm): LayerNorm((768,), eps=1e-12, elementwise_affine=True)\n",
              "        )\n",
              "      )\n",
              "    )\n",
              "  )\n",
              "  (pre_classifier): Linear(in_features=768, out_features=768, bias=True)\n",
              "  (classifier): Linear(in_features=768, out_features=2, bias=True)\n",
              "  (dropout): Dropout(p=0.2, inplace=False)\n",
              ")"
            ]
          },
          "metadata": {},
          "execution_count": 51
        }
      ]
    },
    {
      "cell_type": "code",
      "source": [
        "def predict_sentiment(text, model, tokenizer, device):\n",
        "    tokens = tokenizer.tokenize(text)\n",
        "    ids = tokenizer.convert_tokens_to_ids(tokens)\n",
        "    tensor = torch.LongTensor(ids).unsqueeze(dim=0).to(device)\n",
        "    outputs = model(tensor)\n",
        "    logits = outputs.logits.squeeze(dim=0)\n",
        "    probability = torch.softmax(logits, dim=-1)\n",
        "    predicted_class = torch.argmax(probability, dim=-1).item()\n",
        "    return predicted_class, probability"
      ],
      "metadata": {
        "id": "787oEWkUQbKp"
      },
      "execution_count": 73,
      "outputs": []
    },
    {
      "cell_type": "code",
      "source": [
        "text = \"This film is terrible!\"\n",
        "\n",
        "predict_sentiment(text, model, tokenizer, DEVICE)\n"
      ],
      "metadata": {
        "colab": {
          "base_uri": "https://localhost:8080/"
        },
        "id": "_nA1Rj64QjFL",
        "outputId": "7df81165-8e31-4da8-a827-d9cb38137121"
      },
      "execution_count": 74,
      "outputs": [
        {
          "output_type": "execute_result",
          "data": {
            "text/plain": [
              "(0, tensor([0.9968, 0.0032], device='cuda:0', grad_fn=<SoftmaxBackward0>))"
            ]
          },
          "metadata": {},
          "execution_count": 74
        }
      ]
    },
    {
      "cell_type": "code",
      "source": [
        "text = \"This film is EXCELLENT!\"\n",
        "\n",
        "predict_sentiment(text, model, tokenizer, DEVICE)"
      ],
      "metadata": {
        "colab": {
          "base_uri": "https://localhost:8080/"
        },
        "id": "ziJbw5cTQjMd",
        "outputId": "5abae6cc-af69-4514-fb3c-558dd1aa23d1"
      },
      "execution_count": 78,
      "outputs": [
        {
          "output_type": "execute_result",
          "data": {
            "text/plain": [
              "(1, tensor([0.0013, 0.9987], device='cuda:0', grad_fn=<SoftmaxBackward0>))"
            ]
          },
          "metadata": {},
          "execution_count": 78
        }
      ]
    },
    {
      "cell_type": "code",
      "source": [
        "text = \"The movie I didnt like at all, it was also not funny\"\n",
        "\n",
        "predict_sentiment(text, model, tokenizer, DEVICE)"
      ],
      "metadata": {
        "colab": {
          "base_uri": "https://localhost:8080/"
        },
        "id": "n7IMI7rZQjSs",
        "outputId": "b945bb24-2e34-42c6-b6b7-2f87e86b35cc"
      },
      "execution_count": 79,
      "outputs": [
        {
          "output_type": "execute_result",
          "data": {
            "text/plain": [
              "(0, tensor([0.6463, 0.3537], device='cuda:0', grad_fn=<SoftmaxBackward0>))"
            ]
          },
          "metadata": {},
          "execution_count": 79
        }
      ]
    },
    {
      "cell_type": "code",
      "source": [
        "text = \"so funny and great actor. I really had to laugh all the time, enjoyed watching it\"\n",
        "\n",
        "predict_sentiment(text, model, tokenizer, DEVICE)"
      ],
      "metadata": {
        "colab": {
          "base_uri": "https://localhost:8080/"
        },
        "id": "ku47EQXjVTtD",
        "outputId": "88d524a0-0e37-44c0-f67f-a1407bbe280e"
      },
      "execution_count": 80,
      "outputs": [
        {
          "output_type": "execute_result",
          "data": {
            "text/plain": [
              "(1, tensor([0.0014, 0.9986], device='cuda:0', grad_fn=<SoftmaxBackward0>))"
            ]
          },
          "metadata": {},
          "execution_count": 80
        }
      ]
    }
  ]
}